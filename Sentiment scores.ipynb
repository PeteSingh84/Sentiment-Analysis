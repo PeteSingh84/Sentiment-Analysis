{
 "cells": [
  {
   "cell_type": "code",
   "execution_count": 10,
   "metadata": {},
   "outputs": [],
   "source": [
    "#importing from Pytorch\n",
    "from transformers import pipeline\n"
   ]
  },
  {
   "cell_type": "code",
   "execution_count": 11,
   "metadata": {},
   "outputs": [
    {
     "name": "stderr",
     "output_type": "stream",
     "text": [
      "No model was supplied, defaulted to distilbert-base-uncased-finetuned-sst-2-english (https://huggingface.co/distilbert-base-uncased-finetuned-sst-2-english)\n"
     ]
    }
   ],
   "source": [
    "#sentiment analysis\n",
    "sentiment_analysis = pipeline('sentiment-analysis')\n",
    "positive_sent = \"Prince Andrew reaches 'settlement in principle' with his accuser Virginia Roberts in civil sex claim filed in US, court documents reveal\"\n",
    "negative_sent = \"Man United goalkeeper Dean Henderson denies 'hurtful' internet rumours that HE was the Premier League star arrested for attacking his girlfriend\""
   ]
  },
  {
   "cell_type": "code",
   "execution_count": 12,
   "metadata": {},
   "outputs": [
    {
     "name": "stdout",
     "output_type": "stream",
     "text": [
      "Label: POSITIVE\n",
      "Confidence Score: 0.9623008966445923\n",
      "\n",
      "Label: NEGATIVE\n",
      "Confidence Score: 0.957366943359375\n"
     ]
    }
   ],
   "source": [
    "result = sentiment_analysis(positive_sent)[0]\n",
    "print(\"Label:\", result['label'])\n",
    "print(\"Confidence Score:\", result['score'])\n",
    "print()\n",
    "\n",
    "result = sentiment_analysis(negative_sent)[0]\n",
    "print(\"Label:\", result['label'])\n",
    "print(\"Confidence Score:\", result['score'])"
   ]
  }
 ],
 "metadata": {
  "kernelspec": {
   "display_name": "Python 3",
   "language": "python",
   "name": "python3"
  },
  "language_info": {
   "codemirror_mode": {
    "name": "ipython",
    "version": 3
   },
   "file_extension": ".py",
   "mimetype": "text/x-python",
   "name": "python",
   "nbconvert_exporter": "python",
   "pygments_lexer": "ipython3",
   "version": "3.8.3"
  }
 },
 "nbformat": 4,
 "nbformat_minor": 4
}
